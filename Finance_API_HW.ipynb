{
  "nbformat": 4,
  "nbformat_minor": 0,
  "metadata": {
    "colab": {
      "provenance": []
    },
    "kernelspec": {
      "name": "python3",
      "display_name": "Python 3"
    },
    "language_info": {
      "name": "python"
    }
  },
  "cells": [
    {
      "cell_type": "code",
      "execution_count": 1,
      "metadata": {
        "colab": {
          "base_uri": "https://localhost:8080/"
        },
        "id": "QssH38XSFept",
        "outputId": "d0c40fc3-bf14-4b0e-841d-2747d4f12422"
      },
      "outputs": [
        {
          "output_type": "stream",
          "name": "stdout",
          "text": [
            "Enter your Yahoo Finance API key: gqHkm1vwB68rrYFYvJQMPaTqlFilQlTq9lIns7hf\n",
            "Enter at least two stock symbols separated by commas: AAPL, MSFT\n",
            "\n",
            "Stock Data:\n",
            "Stock Ticker               Company  Current Market Price\n",
            "        AAPL            Apple Inc.                240.36\n",
            "        MSFT Microsoft Corporation                399.73\n",
            "\n",
            "Enter a stock symbol to fetch 52-Week High/Low & ROA data: AAPL\n",
            "\n",
            "Additional Data (52-Week High, 52-Week Low, ROA):\n",
            " 52-Week High  52-Week Low  Return on Assets (ROA)\n",
            "        260.1       164.08                 0.22519\n"
          ]
        }
      ],
      "source": [
        "import requests\n",
        "import pandas as pd\n",
        "import os\n",
        "\n",
        "def fetch_data(url, headers):\n",
        "    \"\"\"Fetch data from Yahoo Finance API.\"\"\"\n",
        "    try:\n",
        "        response = requests.get(url, headers=headers)\n",
        "        response.raise_for_status()\n",
        "        return response.json()\n",
        "    except requests.exceptions.RequestException as e:\n",
        "        print(f\"Error fetching data: {e}\")\n",
        "        return {}\n",
        "\n",
        "def get_stock_data(symbols, api_key):\n",
        "    \"\"\"Fetch basic stock information for given symbols.\"\"\"\n",
        "    headers = {\"x-api-key\": api_key}\n",
        "    url = f\"https://yfapi.net/v6/finance/quote?symbols={','.join(symbols)}\"\n",
        "    response = fetch_data(url, headers)\n",
        "\n",
        "    stock_data = []\n",
        "    for symbol in symbols:\n",
        "        quote = next((item for item in response.get(\"quoteResponse\", {}).get(\"result\", []) if item.get('symbol') == symbol), {})\n",
        "        stock_data.append({\n",
        "            'Stock Ticker': symbol,\n",
        "            'Company': quote.get('longName', 'Unavailable'),\n",
        "            'Current Market Price': quote.get('regularMarketPrice', 'Unavailable')\n",
        "        })\n",
        "\n",
        "    return pd.DataFrame(stock_data)\n",
        "\n",
        "def get_additional_data(symbol, api_key):\n",
        "    \"\"\"Fetch additional financial data, explicitly showing 52-Week High/Low and ROA.\"\"\"\n",
        "    url = f\"https://yfapi.net/v11/finance/quoteSummary/{symbol}?modules=summaryDetail,financialData\"\n",
        "    headers = {\"x-api-key\": api_key}\n",
        "    response = fetch_data(url, headers)\n",
        "    summary = response.get(\"quoteSummary\", {}).get(\"result\", [{}])[0]\n",
        "\n",
        "    data = {\n",
        "        '52-Week High': summary.get(\"summaryDetail\", {}).get(\"fiftyTwoWeekHigh\", {}).get(\"raw\", 'Unavailable'),\n",
        "        '52-Week Low': summary.get(\"summaryDetail\", {}).get(\"fiftyTwoWeekLow\", {}).get(\"raw\", 'Unavailable'),\n",
        "        'Return on Assets (ROA)': summary.get(\"financialData\", {}).get(\"returnOnAssets\", {}).get(\"raw\", 'Unavailable')\n",
        "    }\n",
        "\n",
        "    return pd.DataFrame([data])\n",
        "\n",
        "def main():\n",
        "    \"\"\"Main function to interactively get stock market data.\"\"\"\n",
        "    api_key = os.getenv(\"YF_API_KEY\") or input(\"Enter your Yahoo Finance API key: \").strip()\n",
        "\n",
        "    # Ensure the user enters at least two stock symbols\n",
        "    while True:\n",
        "        symbols = input(\"Enter at least two stock symbols separated by commas: \").strip().split(',')\n",
        "        symbols = [s.strip().upper() for s in symbols if s.strip()]\n",
        "        if len(symbols) >= 2:\n",
        "            break\n",
        "        print(\"Please enter at least two stock symbols.\")\n",
        "\n",
        "    # Fetch and display stock data\n",
        "    stock_df = get_stock_data(symbols, api_key)\n",
        "    print(\"\\nStock Data:\")\n",
        "    print(stock_df.to_string(index=False))  # Clean display\n",
        "\n",
        "    # Fetch additional stock data for a single symbol\n",
        "    symbol = input(\"\\nEnter a stock symbol to fetch 52-Week High/Low & ROA data: \").strip().upper()\n",
        "    additional_df = get_additional_data(symbol, api_key)\n",
        "\n",
        "    print(\"\\nAdditional Data (52-Week High, 52-Week Low, ROA):\")\n",
        "    print(additional_df.to_string(index=False))\n",
        "\n",
        "if __name__ == \"__main__\":\n",
        "    main()\n"
      ]
    }
  ]
}