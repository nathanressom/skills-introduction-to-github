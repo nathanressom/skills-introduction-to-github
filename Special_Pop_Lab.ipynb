{
  "nbformat": 4,
  "nbformat_minor": 0,
  "metadata": {
    "colab": {
      "provenance": []
    },
    "kernelspec": {
      "name": "python3",
      "display_name": "Python 3"
    },
    "language_info": {
      "name": "python"
    }
  },
  "cells": [
    {
      "cell_type": "code",
      "source": [
        "!pip install requests pytz\n",
        "\n",
        "import os\n",
        "import requests\n",
        "from datetime import datetime\n",
        "import pytz\n",
        "\n",
        "API_KEY = \"bb4287f5749017257bd0e700a5e6ab1c\"\n",
        "\n",
        "os.environ[\"AVIATIONSTACK_API_KEY\"] = API_KEY\n",
        "\n",
        "api_key = os.getenv(\"AVIATIONSTACK_API_KEY\")\n",
        "\n",
        "tail_numbers = [\"N350XX\", \"N621MM\", \"N143MW\"]\n",
        "\n",
        "BASE_URL = \"http://api.aviationstack.com/v1/flights\"\n",
        "\n",
        "def convert_utc_to_local(utc_time):\n",
        "    if utc_time:\n",
        "        try:\n",
        "            utc_dt = datetime.strptime(utc_time, \"%Y-%m-%dT%H:%M:%S%z\")\n",
        "            local_dt = utc_dt.astimezone(pytz.timezone(\"America/New_York\"))\n",
        "            return local_dt.strftime(\"%Y-%m-%d %I:%M %p %Z\")\n",
        "        except Exception as e:\n",
        "            return f\"Time Conversion Error: {e}\"\n",
        "    return \"Unknown\"\n",
        "\n",
        "def get_flight_info(tail_number):\n",
        "    params = {\n",
        "        \"access_key\": api_key,\n",
        "        \"reg_number\": tail_number\n",
        "    }\n",
        "\n",
        "    response = requests.get(BASE_URL, params=params)\n",
        "\n",
        "    if response.status_code == 200:\n",
        "        flight_data = response.json().get(\"data\", [])\n",
        "        if flight_data:\n",
        "            last_flight = flight_data[0]\n",
        "            return {\n",
        "                \"Tail Number\": tail_number,\n",
        "                \"Departure Airport\": last_flight[\"departure\"][\"airport\"],\n",
        "                \"Arrival Airport\": last_flight[\"arrival\"][\"airport\"],\n",
        "                \"Departure Time\": convert_utc_to_local(last_flight[\"departure\"][\"estimated\"]),\n",
        "                \"Arrival Time\": convert_utc_to_local(last_flight[\"arrival\"][\"estimated\"]),\n",
        "                \"Flight Status\": last_flight[\"flight_status\"],\n",
        "                \"Aircraft Type\": last_flight[\"aircraft\"][\"icao_code\"] if last_flight.get(\"aircraft\") else \"Unknown\"\n",
        "            }\n",
        "        else:\n",
        "            return {\"Tail Number\": tail_number, \"Error\": \"No recent flights found\"}\n",
        "    else:\n",
        "        return {\"Tail Number\": tail_number, \"Error\": f\"API Error {response.status_code}: {response.text}\"}\n",
        "\n",
        "flight_results = [get_flight_info(tail) for tail in tail_numbers]\n",
        "\n",
        "for result in flight_results:\n",
        "    print(\"\\nFlight Info\")\n",
        "    for key, value in result.items():\n",
        "        print(f\"{key}: {value}\")\n"
      ],
      "metadata": {
        "colab": {
          "base_uri": "https://localhost:8080/"
        },
        "id": "Pfo7ohnRXirS",
        "outputId": "2c45f8e5-9f37-4134-95d4-c4c7cb721fff"
      },
      "execution_count": 10,
      "outputs": [
        {
          "output_type": "stream",
          "name": "stdout",
          "text": [
            "Requirement already satisfied: requests in /usr/local/lib/python3.11/dist-packages (2.32.3)\n",
            "Requirement already satisfied: pytz in /usr/local/lib/python3.11/dist-packages (2025.1)\n",
            "Requirement already satisfied: charset-normalizer<4,>=2 in /usr/local/lib/python3.11/dist-packages (from requests) (3.4.1)\n",
            "Requirement already satisfied: idna<4,>=2.5 in /usr/local/lib/python3.11/dist-packages (from requests) (3.10)\n",
            "Requirement already satisfied: urllib3<3,>=1.21.1 in /usr/local/lib/python3.11/dist-packages (from requests) (2.3.0)\n",
            "Requirement already satisfied: certifi>=2017.4.17 in /usr/local/lib/python3.11/dist-packages (from requests) (2025.1.31)\n",
            "\n",
            "Flight Info\n",
            "Tail Number: N350XX\n",
            "Departure Airport: Gold Coast (coolangatta)\n",
            "Arrival Airport: Coffs Harbour\n",
            "Departure Time: 2025-02-26 07:00 AM EST\n",
            "Arrival Time: 2025-02-25 10:00 AM EST\n",
            "Flight Status: scheduled\n",
            "Aircraft Type: Unknown\n",
            "\n",
            "Flight Info\n",
            "Tail Number: N621MM\n",
            "Departure Airport: Gold Coast (coolangatta)\n",
            "Arrival Airport: Coffs Harbour\n",
            "Departure Time: 2025-02-26 07:00 AM EST\n",
            "Arrival Time: 2025-02-25 10:00 AM EST\n",
            "Flight Status: scheduled\n",
            "Aircraft Type: Unknown\n",
            "\n",
            "Flight Info\n",
            "Tail Number: N143MW\n",
            "Departure Airport: Gold Coast (coolangatta)\n",
            "Arrival Airport: Coffs Harbour\n",
            "Departure Time: 2025-02-26 07:00 AM EST\n",
            "Arrival Time: 2025-02-25 10:00 AM EST\n",
            "Flight Status: scheduled\n",
            "Aircraft Type: Unknown\n"
          ]
        }
      ]
    }
  ]
}